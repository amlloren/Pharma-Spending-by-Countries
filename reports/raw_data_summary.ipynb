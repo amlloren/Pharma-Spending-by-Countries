{
 "cells": [
  {
   "cell_type": "markdown",
   "metadata": {},
   "source": [
    "# Understanding the Raw Data\n",
    "\n",
    "## Table of Contents\n",
    "1. Schema\n",
    "\n",
    "2. General Data Characteristics\n",
    "\n",
    "3. General Statistics\n",
    "\n",
    "4. Country Spending Overview\n",
    "\n",
    "    1. What are the Top 10 Highest Spending Countries?\n",
    "\n",
    "    2. What are the Bottom 10 Lowest Spending Countries?\n",
    "\n",
    "    3. What are the Mid-Level Spending Countries?\n",
    "    \n",
    "5.  Summary Statistics by Country Spending Category\n",
    "\n",
    "6. Total Observations Count for Each Country\n",
    "\n",
    "7. Visualization: Country Observations by Year (Alphabetical Order) \n",
    "\n",
    "8. Visualization: Country Observations by Year (Ordered by Number of Observations)\n",
    "\n",
    "9. Exploring Missing Values\n",
    "\n",
    "    \n",
    "#### Load the data"
   ]
  },
  {
   "cell_type": "code",
   "execution_count": 1,
   "metadata": {},
   "outputs": [],
   "source": [
    "# Load the necessary libraries\n",
    "import pandas as pd\n",
    "import numpy as np\n",
    "\n",
    "# Load your dataset\n",
    "df = pd.read_csv('../../dsi_team_22/data/raw/pharma.csv')"
   ]
  },
  {
   "cell_type": "markdown",
   "metadata": {},
   "source": [
    "## 1. Schema \n",
    "\n",
    "| name | type | description |\n",
    "|---|---|---|\n",
    "| LOCATION | string (object) | Country code |\n",
    "| TIME | number (int64) | Date in the form of %Y |\n",
    "| PC_HEALTHXP | number (float64) | Percentage of health spending |\n",
    "| PC_GDP | number (float64) | Percentage of GDP |\n",
    "| USD_CAP | number (float64) | in USD per capita (using economy-wide PPPs) |\n",
    "| FLAG_CODES | string (object) | Flag codes |\n",
    "| TOTAL_SPEND | number (float64) | Total spending in millions |"
   ]
  },
  {
   "cell_type": "markdown",
   "metadata": {},
   "source": [
    "## 2. General Data Characteristics \n",
    "Summarizations found in the Pharmaceutical Drug Spending by Countries dataset.\n",
    "\n",
    "| question | analysis |\n",
    "|----------|----------|\n",
    "| How many countries are in this data set? | There are 36 countries in this data set. |\n",
    "| How many years are in this data set? | There are 47 years in this data set. |\n",
    "| What is the year range of this data set? | The data ranges from the years 1970 to 2016. |\n",
    "| What is the total number of observations in the dataset? | There are 1036 observations in this data set |\n",
    "| What is the total number of possible observations? | 36 countries x 47 years = 1,692 |\n",
    "| How many values are missing? | 1,692 possible observations - 1036 true observation = 656 missing values|\n",
    "\n",
    "#### Supporting Python Code:"
   ]
  },
  {
   "cell_type": "code",
   "execution_count": 2,
   "metadata": {},
   "outputs": [
    {
     "name": "stdout",
     "output_type": "stream",
     "text": [
      "Number of Countries: 36\n",
      "Number of Years: 47\n",
      "Year Range: (1970, 2016)\n",
      "Total Observations: 1036\n"
     ]
    }
   ],
   "source": [
    "# Find the number of unique countries\n",
    "num_countries = df['LOCATION'].nunique()\n",
    "\n",
    "# Find the number of unique years\n",
    "num_years = df['TIME'].nunique()\n",
    "\n",
    "# Determine the year range of the dataset\n",
    "year_range = (df['TIME'].min(), df['TIME'].max())\n",
    "\n",
    "# Find the total number of observations\n",
    "total_observations = len(df)\n",
    "\n",
    "# Display the results\n",
    "print(\"Number of Countries:\", num_countries)\n",
    "print(\"Number of Years:\", num_years)\n",
    "print(\"Year Range:\", year_range)\n",
    "print(\"Total Observations:\", total_observations)"
   ]
  },
  {
   "cell_type": "markdown",
   "metadata": {},
   "source": [
    "## 3. General Statistics \n",
    "\n",
    "### Average (Mean) across all 36 countries\n",
    "| column | average | unit |\n",
    "|--------|---------|------|\n",
    "| Total Spend | 11765.42 | USD millions |\n",
    "| USD CAP | 295.05 | in USD per capita (using economy-wide PPPs) |\n",
    "| Percentage Health Spending | 16.41 | % |\n",
    "| Percentage GDP | 1.17 | % |\n",
    "\n",
    "#### Supporting Python Code:"
   ]
  },
  {
   "cell_type": "code",
   "execution_count": 3,
   "metadata": {},
   "outputs": [
    {
     "name": "stdout",
     "output_type": "stream",
     "text": [
      "Average Total Spend: 11765.423117760618\n",
      "Average USD CAP: 295.04698938223936\n",
      "Average PC Health Spending: 16.40630694980695\n",
      "Average Percentage GDP: 1.1709478764478765\n"
     ]
    }
   ],
   "source": [
    "# Identify Pharma Data Set Averages\n",
    "avg_total_spend = df['TOTAL_SPEND'].mean()\n",
    "avg_usd_cap = df['USD_CAP'].mean()\n",
    "avg_pc_healthxp = df['PC_HEALTHXP'].mean()\n",
    "avg_pc_gdp = df['PC_GDP'].mean()\n",
    "\n",
    "# Display the results\n",
    "print(\"Average Total Spend:\", avg_total_spend)\n",
    "print(\"Average USD CAP:\",avg_usd_cap)\n",
    "print(\"Average PC Health Spending:\",avg_pc_healthxp)\n",
    "print(\"Average Percentage GDP:\",avg_pc_gdp)"
   ]
  },
  {
   "cell_type": "markdown",
   "metadata": {},
   "source": [
    "## 4. Country Spending Overview \n",
    "\n",
    "| question | analysis |\n",
    "|----------|----------|\n",
    "| Which country has the highest total health expenditure? | United States (total spend: 4186292.78 USD millions) |\n",
    "| Which country has the lowest total health expenditure? | Iceland (total spend: 3752.89 USD millions) |\n",
    "\n",
    "### Total List of Countries ranked by Total Spend\n",
    "\n",
    "| rank | country code | country name | total spend |\n",
    "|------|--------------|--------------|-------------|\n",
    "| 1 | USA | United States | 4186292.78 |\n",
    "| 2 | JPN | Japan | 1602492.93 |\n",
    "| 3 | DEU | Germany | 1188168.49 |\n",
    "| 4 | FRA | France | 802298.94 |\n",
    "| 5 | ITA | Italy | 754377.19 |\n",
    "| 6 | MEX | Mexico | 451903.24 |\n",
    "| 7 | CAN | Canada | 445157.79 |\n",
    "| 8 | ESP | Spain | 436073.35 |\n",
    "| 9 | KOR | South Korea | 413876.98 |\n",
    "| 10 | GBR | United Kingdom | 243390.12 |\n",
    "| 11 | AUS | Australia | 210562.01 |\n",
    "| 12 | POL | Poland | 155643.45 |\n",
    "| 13 | NLD | Netherlands | 147102.32 |\n",
    "| 14 | BEL | Belgium | 126330.37 |\n",
    "| 15 | GRC | Greece | 113206.42 |\n",
    "| 16 | PRT | Portugal | 106881.27 |\n",
    "| 17 | CHE | Switzerland | 103005.12 |\n",
    "| 18 | SWE | Sweden | 93430.58 |\n",
    "| 19 | AUT | Austria | 82723.22 |\n",
    "| 20 | HUN | Hungary | 81580.59 |\n",
    "| 21 | CZE | Czech Republic | 78489.23 |\n",
    "| 22 | FIN | Finland | 52228.15 |\n",
    "| 23 | IRL | Ireland | 46876.19 |\n",
    "| 24 | RUS | Russia | 44655.62 |\n",
    "| 25 | NOR | Norway | 44315.79 |\n",
    "| 26 | DNK | Denmark | 38568.93 |\n",
    "| 27 | SVK | Slovakia | 38472.30 |\n",
    "| 28 | TUR | Turkey | 25138.33 |\n",
    "| 29 | ISR | Israel | 16654.40 |\n",
    "| 30 | LTU | Lithuania | 13859.94 |\n",
    "| 31 | SVN | Slovenia | 12694.20 |\n",
    "| 32 | NZL | New Zealand | 11907.15 |\n",
    "| 33 | LVA | Latvia | 6829.89 |\n",
    "| 34 | EST | Estonia | 5179.24 |\n",
    "| 35 | LUX | Luxembourg | 4858.94 |\n",
    "| 36 | ISL | Iceland | 3752.89 |"
   ]
  },
  {
   "cell_type": "markdown",
   "metadata": {},
   "source": [
    "<a name=\"top10\"></a>\n",
    "### 4.1 What are the top 10 highest spending countries? \n",
    "\n",
    "| rank | country code | country name | total spend |\n",
    "|------|--------------|--------------|-------------|\n",
    "| 1 | USA | United States | 4186292.78 |\n",
    "| 2 | JPN | Japan | 1602492.93 |\n",
    "| 3 | DEU | Germany | 1188168.49 |\n",
    "| 4 | FRA | France | 802298.94 |\n",
    "| 5 | ITA | Italy | 754377.19 |\n",
    "| 6 | MEX | Mexico | 451903.24 |\n",
    "| 7 | CAN | Canada | 445157.79 |\n",
    "| 8 | ESP | Spain | 436073.35 |\n",
    "| 9 | KOR | South Korea | 413876.98 |\n",
    "| 10 | GBR | United Kingdom | 243390.12 |\n",
    "\n",
    "#### Supporting Python Code:\n"
   ]
  },
  {
   "cell_type": "code",
   "execution_count": 4,
   "metadata": {},
   "outputs": [
    {
     "name": "stdout",
     "output_type": "stream",
     "text": [
      "Top 10 Highest Spending Countries:\n",
      "LOCATION\n",
      "USA    4186292.78\n",
      "JPN    1602492.93\n",
      "DEU    1188168.49\n",
      "FRA     802298.94\n",
      "ITA     754377.19\n",
      "MEX     451903.24\n",
      "CAN     445157.79\n",
      "ESP     436073.35\n",
      "KOR     413876.98\n",
      "GBR     243390.12\n",
      "Name: TOTAL_SPEND, dtype: float64\n"
     ]
    }
   ],
   "source": [
    "# Identify the Top 10 highest spending countries\n",
    "top_10_highest_spending = df.groupby('LOCATION')['TOTAL_SPEND'].sum().sort_values(ascending=False).head(10)\n",
    "\n",
    "# Display the results\n",
    "print(\"Top 10 Highest Spending Countries:\")\n",
    "print(top_10_highest_spending)"
   ]
  },
  {
   "cell_type": "markdown",
   "metadata": {},
   "source": [
    "<a name=\"midlevel\"></a>\n",
    "\n",
    "### 4.2 What are the mid level spending countries? \n",
    "\n",
    "| rank | country code | country name | total spend |\n",
    "|------|--------------|--------------|-------------|\n",
    "| 11 | AUS | Australia | 210562.01 |\n",
    "| 12 | POL | Poland | 155643.45 |\n",
    "| 13 | NLD | Netherlands | 147102.32 |\n",
    "| 14 | BEL | Belgium | 126330.37 |\n",
    "| 15 | GRC | Greece | 113206.42 |\n",
    "| 16 | PRT | Portugal | 106881.27 |\n",
    "| 17 | CHE | Switzerland | 103005.12 |\n",
    "| 18 | SWE | Sweden | 93430.58 |\n",
    "| 19 | AUT | Austria | 82723.22 |\n",
    "| 20 | HUN | Hungary | 81580.59 |\n",
    "| 21 | CZE | Czech Republic | 78489.23 |\n",
    "| 22 | FIN | Finland | 52228.15 |\n",
    "| 23 | IRL | Ireland | 46876.19 |\n",
    "| 24 | RUS | Russia | 44655.62 |\n",
    "| 25 | NOR | Norway | 44315.79 |\n",
    "| 26 | DNK | Denmark | 38568.93 |\n",
    "\n",
    "#### Supporting Python Code:"
   ]
  },
  {
   "cell_type": "code",
   "execution_count": 5,
   "metadata": {},
   "outputs": [
    {
     "name": "stdout",
     "output_type": "stream",
     "text": [
      "\n",
      "Countries Not in Top 10 or Bottom 10:\n",
      "LOCATION\n",
      "AUS    210562.01\n",
      "POL    155643.45\n",
      "NLD    147102.32\n",
      "BEL    126330.37\n",
      "GRC    113206.42\n",
      "PRT    106881.27\n",
      "CHE    103005.12\n",
      "SWE     93430.58\n",
      "AUT     82723.22\n",
      "HUN     81580.59\n",
      "CZE     78489.23\n",
      "FIN     52228.15\n",
      "IRL     46876.19\n",
      "RUS     44655.62\n",
      "NOR     44315.79\n",
      "DNK     38568.93\n",
      "Name: TOTAL_SPEND, dtype: float64\n"
     ]
    }
   ],
   "source": [
    "# Calculate the total spend for each country\n",
    "total_spend_by_country = df.groupby('LOCATION')['TOTAL_SPEND'].sum()\n",
    "\n",
    "# Identify the top 10 and bottom 10 countries\n",
    "top_10_countries = total_spend_by_country.nlargest(10)\n",
    "bottom_10_countries = total_spend_by_country.nsmallest(10)\n",
    "\n",
    "# Filter out the top 10 and bottom 10 countries\n",
    "remaining_countries = total_spend_by_country.drop(top_10_countries.index).drop(bottom_10_countries.index).sort_values(ascending=False)\n",
    "\n",
    "# Display the results\n",
    "print(\"\\nCountries Not in Top 10 or Bottom 10:\")\n",
    "print(remaining_countries)"
   ]
  },
  {
   "cell_type": "markdown",
   "metadata": {},
   "source": [
    "<a name=\"bottom10\"></a>\n",
    "\n",
    "### 4.3 What are the bottom 10 lowest spending countries? \n",
    "\n",
    "| rank | country code | country name | total spend |\n",
    "|------|--------------|--------------|-------------|\n",
    "| 27 | SVK | Slovakia | 38472.30 |\n",
    "| 28 | TUR | Turkey | 25138.33 |\n",
    "| 29 | ISR | Israel | 16654.40 |\n",
    "| 30 | LTU | Lithuania | 13859.94 |\n",
    "| 31 | SVN | Slovenia | 12694.20 |\n",
    "| 32 | NZL | New Zealand | 11907.15 |\n",
    "| 33 | LVA | Latvia | 6829.89 |\n",
    "| 34 | EST | Estonia | 5179.24 |\n",
    "| 35 | LUX | Luxembourg | 4858.94 |\n",
    "| 36 | ISL | Iceland | 3752.89 |\n",
    "\n",
    "#### Supporting Python Code:"
   ]
  },
  {
   "cell_type": "code",
   "execution_count": 6,
   "metadata": {},
   "outputs": [
    {
     "name": "stdout",
     "output_type": "stream",
     "text": [
      "Bottom 10 Lowest Spending Countries:\n",
      "LOCATION\n",
      "ISL     3752.89\n",
      "LUX     4858.94\n",
      "EST     5179.24\n",
      "LVA     6829.89\n",
      "NZL    11907.15\n",
      "SVN    12694.20\n",
      "LTU    13859.94\n",
      "ISR    16654.40\n",
      "TUR    25138.33\n",
      "SVK    38472.30\n",
      "Name: TOTAL_SPEND, dtype: float64\n"
     ]
    }
   ],
   "source": [
    "# Identify the Bottom 10 lowest spending countries\n",
    "bottom_10_lowest_spending = df.groupby('LOCATION')['TOTAL_SPEND'].sum().sort_values(ascending=True).head(10)\n",
    "\n",
    "# Display the results\n",
    "print(\"Bottom 10 Lowest Spending Countries:\")\n",
    "print(bottom_10_lowest_spending)"
   ]
  },
  {
   "cell_type": "markdown",
   "metadata": {},
   "source": [
    "## 5. Summary Statistics by Country Spending Category "
   ]
  },
  {
   "cell_type": "markdown",
   "metadata": {},
   "source": [
    "### Averages (Mean) per column\n",
    "\n",
    "| category | % of health spending | % of GDP | USD per capita | total spend |\n",
    "|----------|---------------------:|---------:|---------------:|------------:|\n",
    "| top 10 countries | 717.68 | 50.70 | 13073.28 USD | 1052403.18 USD millions |\n",
    "| mid-level countries | 474.55 | 34.59 | 9064.45 USD | 95349.95 USD millions |\n",
    "| bottom 10 countries | 222.73 | 15.27 | 2990.46 USD | 13934.73 USD millions |\n",
    "\n",
    "#### Supporting Python Code:"
   ]
  },
  {
   "cell_type": "code",
   "execution_count": 7,
   "metadata": {},
   "outputs": [
    {
     "name": "stdout",
     "output_type": "stream",
     "text": [
      "Average Total Spend of the Top 10 Countries: 1052403.1809999999\n",
      "Average Total Spend of the Mid-Level Countries: 95349.95375\n",
      "Average Total Spend of the Bottom 10 Countries: 13934.728\n"
     ]
    }
   ],
   "source": [
    "# Calculate the total spend for each country\n",
    "total_spend_by_country = df.groupby('LOCATION')['TOTAL_SPEND'].sum()\n",
    "\n",
    "# Identify the top 10 and bottom 10 countries\n",
    "top_10_total_spend = total_spend_by_country.nlargest(10)\n",
    "bottom_10_total_spend = total_spend_by_country.nsmallest(10)\n",
    "\n",
    "# Filter out the top 10 and bottom 10 countries\n",
    "mid_level_total_spend = total_spend_by_country.drop(top_10_total_spend.index).drop(bottom_10_total_spend.index)\n",
    "\n",
    "# Calculate the average total spend for each group\n",
    "average_total_spend_top_10 = top_10_total_spend.mean()\n",
    "average_total_spend_bottom_10 = bottom_10_total_spend.mean()\n",
    "average_total_spend_mid_level = mid_level_total_spend.mean()\n",
    "\n",
    "# Display the results\n",
    "print(\"Average Total Spend of the Top 10 Countries:\", average_total_spend_top_10)\n",
    "print(\"Average Total Spend of the Mid-Level Countries:\", average_total_spend_mid_level)\n",
    "print(\"Average Total Spend of the Bottom 10 Countries:\", average_total_spend_bottom_10)"
   ]
  },
  {
   "cell_type": "code",
   "execution_count": 8,
   "metadata": {},
   "outputs": [
    {
     "name": "stdout",
     "output_type": "stream",
     "text": [
      "Average pc of health spending of the Top 10 Countries: 717.6775\n",
      "Average pc of health spending of the Mid-Level Countries: 474.55343750000003\n",
      "Average pc of health spending of the Bottom 10 Countries: 222.7304\n"
     ]
    }
   ],
   "source": [
    "# Calculate the percentage of health spending for each country\n",
    "pc_healthxp_by_country = df.groupby('LOCATION')['PC_HEALTHXP'].sum()\n",
    "\n",
    "# Identify the top 10 and bottom 10 countries\n",
    "top_10_pc_healthxp = pc_healthxp_by_country.nlargest(10)\n",
    "bottom_10_pc_healthxp = pc_healthxp_by_country.nsmallest(10)\n",
    "\n",
    "# Filter out the top 10 and bottom 10 countries\n",
    "mid_level_pc_healthxp = pc_healthxp_by_country.drop(top_10_pc_healthxp.index).drop(bottom_10_pc_healthxp.index)\n",
    "\n",
    "# Calculate the average total spend for each group\n",
    "average_pc_healthxp_top_10 = top_10_pc_healthxp.mean()\n",
    "average_pc_healthxp_bottom_10 = bottom_10_pc_healthxp.mean()\n",
    "average_pc_healthxp_mid_level = mid_level_pc_healthxp.mean()\n",
    "\n",
    "# Display the results\n",
    "print(\"Average pc of health spending of the Top 10 Countries:\", average_pc_healthxp_top_10)\n",
    "print(\"Average pc of health spending of the Mid-Level Countries:\", average_pc_healthxp_mid_level)\n",
    "print(\"Average pc of health spending of the Bottom 10 Countries:\", average_pc_healthxp_bottom_10)"
   ]
  },
  {
   "cell_type": "code",
   "execution_count": 9,
   "metadata": {},
   "outputs": [
    {
     "name": "stdout",
     "output_type": "stream",
     "text": [
      "Average pc of gdp of the Top 10 Countries: 50.6995\n",
      "Average pc of gdp of the Mid-Level Countries: 34.5884375\n",
      "Average pc of gdp of the Bottom 10 Countries: 15.269199999999998\n"
     ]
    }
   ],
   "source": [
    "# Calculate the percentage of GDP for each country\n",
    "pc_gdp_by_country = df.groupby('LOCATION')['PC_GDP'].sum()\n",
    "\n",
    "# Identify the top 10 and bottom 10 countries\n",
    "top_10_pc_gdp = pc_gdp_by_country.nlargest(10)\n",
    "bottom_10_pc_gdp = pc_gdp_by_country.nsmallest(10)\n",
    "\n",
    "# Filter out the top 10 and bottom 10 countries\n",
    "mid_level_pc_gdp = pc_gdp_by_country.drop(top_10_pc_gdp.index).drop(bottom_10_pc_gdp.index)\n",
    "\n",
    "# Calculate the average total spend for each group\n",
    "average_pc_gdp_top_10 = top_10_pc_gdp.mean()\n",
    "average_pc_gdp_bottom_10 = bottom_10_pc_gdp.mean()\n",
    "average_pc_gdp_mid_level = mid_level_pc_gdp.mean()\n",
    "\n",
    "# Display the results\n",
    "print(\"Average pc of gdp of the Top 10 Countries:\", average_pc_gdp_top_10)\n",
    "print(\"Average pc of gdp of the Mid-Level Countries:\", average_pc_gdp_mid_level)\n",
    "print(\"Average pc of gdp of the Bottom 10 Countries:\", average_pc_gdp_bottom_10)"
   ]
  },
  {
   "cell_type": "code",
   "execution_count": 10,
   "metadata": {},
   "outputs": [
    {
     "name": "stdout",
     "output_type": "stream",
     "text": [
      "Average USD per capita of the Top 10 Countries: 13073.2844\n",
      "Average USD per capita of the Mid-Level Countries: 9064.449625000001\n",
      "Average USD per capita of the Bottom 10 Countries: 2990.4642999999996\n"
     ]
    }
   ],
   "source": [
    "# Calculate the USD per capita for each country\n",
    "usd_cap_by_country = df.groupby('LOCATION')['USD_CAP'].sum()\n",
    "\n",
    "# Identify the top 10 and bottom 10 countries\n",
    "top_10_usd_cap = usd_cap_by_country.nlargest(10)\n",
    "bottom_10_usd_cap = usd_cap_by_country.nsmallest(10)\n",
    "\n",
    "# Filter out the top 10 and bottom 10 countries\n",
    "mid_level_usd_cap = usd_cap_by_country.drop(top_10_usd_cap.index).drop(bottom_10_usd_cap.index)\n",
    "\n",
    "# Calculate the average total spend for each group\n",
    "average_usd_cap_top_10 = top_10_usd_cap.mean()\n",
    "average_usd_cap_bottom_10 = bottom_10_usd_cap.mean()\n",
    "average_usd_cap_mid_level = mid_level_usd_cap.mean()\n",
    "\n",
    "# Display the results\n",
    "print(\"Average USD per capita of the Top 10 Countries:\", average_usd_cap_top_10)\n",
    "print(\"Average USD per capita of the Mid-Level Countries:\", average_usd_cap_mid_level)\n",
    "print(\"Average USD per capita of the Bottom 10 Countries:\", average_usd_cap_bottom_10)"
   ]
  },
  {
   "cell_type": "markdown",
   "metadata": {},
   "source": [
    "## 7. Total Observations Count for Each Country\n",
    "\n",
    "| country code | country name    | number of observations |\n",
    "|--------------|-----------------|------------------------|\n",
    "| NOR          | Norway          | 47                     |\n",
    "| KOR          | South Korea     | 47                     |\n",
    "| SWE          | Sweden          | 46                     |\n",
    "| FIN          | Finland         | 46                     |\n",
    "| ISL          | Iceland         | 46                     |\n",
    "| DEU          | Germany         | 45                     |\n",
    "| CAN          | Canada          | 45                     |\n",
    "| AUS          | Australia       | 44                     |\n",
    "| NLD          | Netherlands     | 43                     |\n",
    "| IRL          | Ireland         | 41                     |\n",
    "| BEL          | Belgium         | 41                     |\n",
    "| PRT          | Portugal        | 39                     |\n",
    "| DNK          | Denmark         | 36                     |\n",
    "| ESP          | Spain           | 32                     |\n",
    "| JPN          | Japan           | 32                     |\n",
    "| GBR          | United Kingdom  | 31                     |\n",
    "| CHE          | Switzerland     | 31                     |\n",
    "| FRA          | France          | 30                     |\n",
    "| ITA          | Italy           | 29                     |\n",
    "| GRC          | Greece          | 27                     |\n",
    "| CZE          | Czech Republic  | 26                     |\n",
    "| AUT          | Austria         | 26                     |\n",
    "| NZL          | New Zealand     | 24                     |\n",
    "| HUN          | Hungary         | 22                     |\n",
    "| LUX          | Luxembourg      | 21                     |\n",
    "| SVK          | Slovakia        | 17                     |\n",
    "| MEX          | Mexico          | 17                     |\n",
    "| EST          | Estonia         | 17                     |\n",
    "| USA          | United States   | 16                     |\n",
    "| POL          | Poland          | 14                     |\n",
    "| SVN          | Slovenia        | 14                     |\n",
    "| LVA          | Latvia          | 12                     |\n",
    "| LTU          | Lithuania       | 12                     |\n",
    "| TUR          | Turkey          | 11                     |\n",
    "| ISR          | Israel          | 8                      |\n",
    "| RUS          | Russia          | 1                      |\n",
    "\n",
    "#### Supporting Python Code:"
   ]
  },
  {
   "cell_type": "code",
   "execution_count": 11,
   "metadata": {},
   "outputs": [
    {
     "name": "stdout",
     "output_type": "stream",
     "text": [
      "NOR: 47 observations\n",
      "KOR: 47 observations\n",
      "SWE: 46 observations\n",
      "FIN: 46 observations\n",
      "ISL: 46 observations\n",
      "DEU: 45 observations\n",
      "CAN: 45 observations\n",
      "AUS: 44 observations\n",
      "NLD: 43 observations\n",
      "IRL: 41 observations\n",
      "BEL: 41 observations\n",
      "PRT: 39 observations\n",
      "DNK: 36 observations\n",
      "ESP: 32 observations\n",
      "JPN: 32 observations\n",
      "GBR: 31 observations\n",
      "CHE: 31 observations\n",
      "FRA: 30 observations\n",
      "ITA: 29 observations\n",
      "GRC: 27 observations\n",
      "CZE: 26 observations\n",
      "AUT: 26 observations\n",
      "NZL: 24 observations\n",
      "HUN: 22 observations\n",
      "LUX: 21 observations\n",
      "SVK: 17 observations\n",
      "MEX: 17 observations\n",
      "EST: 17 observations\n",
      "USA: 16 observations\n",
      "POL: 14 observations\n",
      "SVN: 14 observations\n",
      "LVA: 12 observations\n",
      "LTU: 12 observations\n",
      "TUR: 11 observations\n",
      "ISR: 8 observations\n",
      "RUS: 1 observations\n"
     ]
    }
   ],
   "source": [
    "# Count the number of observations for each country and sort from largest to smallest\n",
    "observations_per_country = df['LOCATION'].value_counts()\n",
    "\n",
    "# Print the number of observations for each country\n",
    "for country, count in observations_per_country.items():\n",
    "    print(f\"{country}: {count} observations\")"
   ]
  },
  {
   "cell_type": "markdown",
   "metadata": {},
   "source": [
    "## 7. Visualization: Country Observations by Year (Alphabetical Order)\n",
    "\n",
    "To visualize which years each country has an observation, we can use a heatmap. A heatmap is a great way to represent the presence or absence of observations across different years for each country. We can use the seaborn and matplotlib libraries in Python to create this visualization.\n",
    "\n",
    "Step-by-Step Guide\n",
    "* Prepare the Data: Transform the data into a format suitable for a heatmap.\n",
    "* Create the Heatmap: Use seaborn to create the heatmap.\n",
    "\n",
    "#### Supporting Python Code:"
   ]
  },
  {
   "cell_type": "code",
   "execution_count": 12,
   "metadata": {},
   "outputs": [
    {
     "name": "stderr",
     "output_type": "stream",
     "text": [
      "/var/folders/67/90hxk3wd4v9d4cvjls01q60h0000gp/T/ipykernel_4329/824166905.py:8: FutureWarning: DataFrame.applymap has been deprecated. Use DataFrame.map instead.\n",
      "  pivot_table = pivot_table.applymap(lambda x: 1 if x > 0 else 0)\n"
     ]
    },
    {
     "data": {
      "image/png": "[encoded data removed]",
      "text/plain": [
       "<Figure size 1600x1000 with 1 Axes>"
      ]
     },
     "metadata": {},
     "output_type": "display_data"
    }
   ],
   "source": [
    "import seaborn as sns\n",
    "import matplotlib.pyplot as plt\n",
    "\n",
    "# Create a pivot table with countries as rows and years as columns\n",
    "pivot_table = df.pivot_table(index='LOCATION', columns='TIME', aggfunc='size', fill_value=0)\n",
    "\n",
    "# Convert the pivot table to a binary format (presence or absence of observation)\n",
    "pivot_table = pivot_table.applymap(lambda x: 1 if x > 0 else 0)\n",
    "\n",
    "# Plot the heatmap\n",
    "plt.figure(figsize=(16, 10))\n",
    "sns.heatmap(pivot_table, cmap=\"YlGnBu\", cbar=False, linewidths=.5)\n",
    "\n",
    "# Add labels and title\n",
    "plt.xlabel('Year')\n",
    "plt.ylabel('Country')\n",
    "plt.title('Observations of Each Country by Year')\n",
    "\n",
    "# Display the heatmap\n",
    "plt.show()"
   ]
  },
  {
   "cell_type": "markdown",
   "metadata": {},
   "source": [
    "## 8. Visualization: Country Observations by Year (Ordered by Number of Observations)\n",
    "\n",
    "The resulting heatmap will have countries on the y-axis (ordered by the number of observations from highest to lowest) and years on the x-axis. Cells will be colored based on the presence (1) or absence (0) of observations, providing a clear visualization of which years each country has data available.\n",
    "\n",
    "This approach ensures that countries with the most observations are displayed at the top, making it easier to identify data-rich countries. Adjust the figsize parameter to ensure all labels are readable.\n",
    "\n",
    "#### Supporting Python Code:"
   ]
  },
  {
   "cell_type": "code",
   "execution_count": 13,
   "metadata": {},
   "outputs": [
    {
     "name": "stderr",
     "output_type": "stream",
     "text": [
      "/var/folders/67/90hxk3wd4v9d4cvjls01q60h0000gp/T/ipykernel_4329/1771669845.py:5: FutureWarning: DataFrame.applymap has been deprecated. Use DataFrame.map instead.\n",
      "  pivot_table = pivot_table.applymap(lambda x: 1 if x > 0 else 0)\n"
     ]
    },
    {
     "data": {
      "image/png": "[encoded data removed]",
      "text/plain": [
       "<Figure size 1600x1000 with 1 Axes>"
      ]
     },
     "metadata": {},
     "output_type": "display_data"
    }
   ],
   "source": [
    "# Create a pivot table with countries as rows and years as columns\n",
    "pivot_table = df.pivot_table(index='LOCATION', columns='TIME', aggfunc='size', fill_value=0)\n",
    "\n",
    "# Convert the pivot table to a binary format (presence or absence of observation)\n",
    "pivot_table = pivot_table.applymap(lambda x: 1 if x > 0 else 0)\n",
    "\n",
    "# Count the number of observations per country\n",
    "observation_counts = pivot_table.sum(axis=1)\n",
    "\n",
    "# Sort the countries by the number of observations\n",
    "sorted_countries = observation_counts.sort_values(ascending=False).index\n",
    "\n",
    "# Reorder the pivot table based on the sorted countries\n",
    "pivot_table_sorted = pivot_table.loc[sorted_countries]\n",
    "\n",
    "# Plot the heatmap\n",
    "plt.figure(figsize=(16, 10))\n",
    "sns.heatmap(pivot_table_sorted, cmap=\"YlGnBu\", cbar=False, linewidths=.5)\n",
    "\n",
    "# Add labels and title\n",
    "plt.xlabel('Year')\n",
    "plt.ylabel('Country')\n",
    "plt.title('Observations of Each Country by Year (Sorted by Number of Observations)')\n",
    "\n",
    "# Display the heatmap\n",
    "plt.show()\n"
   ]
  },
  {
   "cell_type": "markdown",
   "metadata": {},
   "source": [
    "## 9. Exploring Missing Values\n",
    "\n",
    "Since our data set does not include the null values, we need to create a new CSV file that contains the countries and years that are in the 1970 to 2017 range that are not in the current data set. The code below creates a new file called \"missing_values.csv\".\n",
    "\n",
    "#### Supporting Python Code:"
   ]
  },
  {
   "cell_type": "code",
   "execution_count": null,
   "metadata": {},
   "outputs": [],
   "source": [
    "# Define the range of years and get unique country codes\n",
    "years = np.arange(1970, 2017)\n",
    "countries = df['LOCATION'].unique()\n",
    "\n",
    "# Create a reference DataFrame with all combinations of countries and years\n",
    "reference_df = pd.MultiIndex.from_product([countries, years], names=['LOCATION', 'TIME']).to_frame(index=False)\n",
    "\n",
    "# Merge the reference DataFrame with the original DataFrame to find missing combinations\n",
    "merged_df = reference_df.merge(df, on=['LOCATION', 'TIME'], how='left', indicator=True)\n",
    "\n",
    "# Identify rows where the merge indicator shows that the row is missing in the original DataFrame\n",
    "missing_rows = merged_df[merged_df['_merge'] == 'left_only']\n",
    "\n",
    "# Display the missing country-year combinations\n",
    "missing_combinations = missing_rows[['LOCATION', 'TIME']]\n",
    "print(\"Missing country-year combinations:\")\n",
    "print(missing_combinations)\n",
    "\n",
    "# Save the missing combinations to a CSV file\n",
    "missing_combinations.to_csv('missing_values.csv', index=False)"
   ]
  },
  {
   "cell_type": "code",
   "execution_count": 15,
   "metadata": {},
   "outputs": [],
   "source": [
    "# Load your dataset\n",
    "df_missing = pd.read_csv('../../dsi_team_22/data/processed/missing_values.csv')"
   ]
  },
  {
   "cell_type": "markdown",
   "metadata": {},
   "source": [
    "### Countries with 10 or fewer missing years\n",
    "| country code | country name    | number of missing values |\n",
    "|--------------|-----------------|--------------------------|\n",
    "| SWE          | Sweden          | 1                        |\n",
    "| ISL          | Iceland         | 1                        |\n",
    "| FIN          | Finland         | 1                        |\n",
    "| DEU          | Germany         | 2                        |\n",
    "| CAN          | Canada          | 2                        |\n",
    "| NLD          | Netherlands     | 4                        |\n",
    "| IRL          | Ireland         | 6                        |\n",
    "| BEL          | Belgium         | 6                        |\n",
    "| AUS          | Australia       | 3                        |\n",
    "| PRT          | Portugal        | 8                        |\n",
    "\n",
    "#### Supporting Python Code:"
   ]
  },
  {
   "cell_type": "code",
   "execution_count": 16,
   "metadata": {},
   "outputs": [
    {
     "name": "stdout",
     "output_type": "stream",
     "text": [
      "Countries with 10 or fewer missing years:\n",
      "LOCATION\n",
      "PRT    8\n",
      "IRL    6\n",
      "BEL    6\n",
      "NLD    4\n",
      "AUS    3\n",
      "DEU    2\n",
      "CAN    2\n",
      "SWE    1\n",
      "ISL    1\n",
      "FIN    1\n",
      "Name: count, dtype: int64\n"
     ]
    }
   ],
   "source": [
    "# Count the number of missing years for each country\n",
    "missing_years_count = df_missing['LOCATION'].value_counts()\n",
    "\n",
    "# Filter countries with 10 or fewer missing years\n",
    "countries_with_few_missing_years = missing_years_count[missing_years_count <= 10]\n",
    "\n",
    "# Display the results\n",
    "print(\"Countries with 10 or fewer missing years:\")\n",
    "print(countries_with_few_missing_years)"
   ]
  },
  {
   "cell_type": "markdown",
   "metadata": {},
   "source": [
    "### Countries with 30 or more missing years\n",
    "| country code | country name    | number of missing values |\n",
    "|--------------|-----------------|--------------------------|\n",
    "| RUS          | Russia          | 46                       |\n",
    "| ISR          | Israel          | 39                       |\n",
    "| TUR          | Turkey          | 36                       |\n",
    "| LTU          | Lithuania       | 35                       |\n",
    "| LVA          | Latvia          | 35                       |\n",
    "| SVN          | Slovenia        | 33                       |\n",
    "| POL          | Poland          | 33                       |\n",
    "| USA          | United States   | 31                       |\n",
    "| EST          | Estonia         | 30                       |\n",
    "| SVK          | Slovakia        | 30                       |\n",
    "| MEX          | Mexico          | 30                       |\n",
    "\n",
    "#### Supporting Python Code:"
   ]
  },
  {
   "cell_type": "code",
   "execution_count": 17,
   "metadata": {},
   "outputs": [
    {
     "name": "stdout",
     "output_type": "stream",
     "text": [
      "Countries with 30 or more missing years:\n",
      "LOCATION\n",
      "RUS    46\n",
      "ISR    39\n",
      "TUR    36\n",
      "LTU    35\n",
      "LVA    35\n",
      "SVN    33\n",
      "POL    33\n",
      "USA    31\n",
      "EST    30\n",
      "SVK    30\n",
      "MEX    30\n",
      "Name: count, dtype: int64\n"
     ]
    }
   ],
   "source": [
    "# Count the number of missing years for each country\n",
    "missing_years_count = df_missing['LOCATION'].value_counts()\n",
    "\n",
    "# Filter countries with 10 or fewer missing years\n",
    "countries_with_few_missing_years = missing_years_count[missing_years_count >= 30]\n",
    "\n",
    "# Display the results\n",
    "print(\"Countries with 30 or more missing years:\")\n",
    "print(countries_with_few_missing_years)"
   ]
  },
  {
   "cell_type": "markdown",
   "metadata": {},
   "source": [
    "## 9. Addressing Inaccuracies\n",
    "\n",
    "### Results are skewed by the number of observations\n",
    "The output of \"total_spend\" for a country is the sum of all observations (rows) for that country in the dataset. If one country has 18 observations and another has 40, the TOTAL_SPEND for each country will be the sum of TOTAL_SPEND values from those 18 or 40 observations, respectively.\n",
    "\n",
    "Meaning, the total spend will be influenced by the number of observations for each country. Countries with more observations will likely have higher total spend values simply because there are more data points contributing to the sum. This can skew the results if the number of observations varies significantly between countries. \n",
    "\n",
    "### Addressing the Skew\n",
    "To address this potential skew, you might want to consider normalizing the spend values. Here are a few approaches you can take:\n",
    "\n",
    "* Average Spend per Observation: Calculate the average spend per observation for each country. This can give a more balanced view, regardless of the number of observations.\n",
    "\n",
    "* Median Spend: Use the median spend instead of the sum or mean, as the median is less sensitive to outliers and the number of observations."
   ]
  },
  {
   "cell_type": "markdown",
   "metadata": {},
   "source": [
    "#### Average Spend per Observation\n",
    "\n",
    "| rank | country code | country name    | average spend per observation |\n",
    "|------|--------------|-----------------|-------------------------------|\n",
    "| 1    | USA          | United States   | 261643.298750                 |\n",
    "| 2    | JPN          | Japan           | 50077.904062                  |\n",
    "| 3    | RUS          | Russia          | 44655.620000                  |\n",
    "| 4    | FRA          | France          | 26743.298000                  |\n",
    "| 5    | MEX          | Mexico          | 26582.543529                  |\n",
    "| 6    | DEU          | Germany         | 26403.744222                  |\n",
    "| 7    | ITA          | Italy           | 26013.006552                  |\n",
    "| 8    | ESP          | Spain           | 13627.292187                  |\n",
    "| 9    | POL          | Poland          | 11117.389286                  |\n",
    "| 10   | CAN          | Canada          | 9892.395333                   |\n",
    "| 11   | KOR          | South Korea     | 8805.893191                   |\n",
    "| 12   | GBR          | United Kingdom  | 7851.294194                   |\n",
    "| 13   | AUS          | Australia       | 4785.500227                   |\n",
    "| 14   | GRC          | Greece          | 4192.830370                   |\n",
    "| 15   | HUN          | Hungary         | 3708.208636                   |\n",
    "| 16   | NLD          | Netherlands     | 3420.984186                   |\n",
    "| 17   | CHE          | Switzerland     | 3322.745806                   |\n",
    "| 18   | AUT          | Austria         | 3181.662308                   |\n",
    "| 19   | BEL          | Belgium         | 3081.228537                   |\n",
    "| 20   | CZE          | Czech Republic  | 3018.816538                   |\n",
    "| 21   | PRT          | Portugal        | 2740.545385                   |\n",
    "| 22   | TUR          | Turkey          | 2285.302727                   |\n",
    "| 23   | SVK          | Slovakia        | 2263.076471                   |\n",
    "| 24   | ISR          | Israel          | 2081.800000                   |\n",
    "| 25   | SWE          | Sweden          | 2031.099565                   |\n",
    "| 26   | LTU          | Lithuania       | 1154.995000                   |\n",
    "| 27   | IRL          | Ireland         | 1143.321707                   |\n",
    "| 28   | FIN          | Finland         | 1135.394565                   |\n",
    "| 29   | DNK          | Denmark         | 1071.359167                   |\n",
    "| 30   | NOR          | Norway          | 942.889149                    |\n",
    "| 31   | SVN          | Slovenia        | 906.728571                    |\n",
    "| 32   | LVA          | Latvia          | 569.157500                    |\n",
    "| 33   | NZL          | New Zealand     | 496.131250                    |\n",
    "| 34   | EST          | Estonia         | 304.661176                    |\n",
    "| 35   | LUX          | Luxembourg      | 231.378095                    |\n",
    "| 36   | ISL          | Iceland         | 81.584565                     |\n",
    "\n",
    "\n",
    "#### Supporting Python Code:"
   ]
  },
  {
   "cell_type": "code",
   "execution_count": 18,
   "metadata": {},
   "outputs": [
    {
     "name": "stdout",
     "output_type": "stream",
     "text": [
      "Average Total Spending Countries:\n",
      "LOCATION\n",
      "USA    261643.298750\n",
      "JPN     50077.904062\n",
      "RUS     44655.620000\n",
      "FRA     26743.298000\n",
      "MEX     26582.543529\n",
      "DEU     26403.744222\n",
      "ITA     26013.006552\n",
      "ESP     13627.292187\n",
      "POL     11117.389286\n",
      "CAN      9892.395333\n",
      "KOR      8805.893191\n",
      "GBR      7851.294194\n",
      "AUS      4785.500227\n",
      "GRC      4192.830370\n",
      "HUN      3708.208636\n",
      "NLD      3420.984186\n",
      "CHE      3322.745806\n",
      "AUT      3181.662308\n",
      "BEL      3081.228537\n",
      "CZE      3018.816538\n",
      "PRT      2740.545385\n",
      "TUR      2285.302727\n",
      "SVK      2263.076471\n",
      "ISR      2081.800000\n",
      "SWE      2031.099565\n",
      "LTU      1154.995000\n",
      "IRL      1143.321707\n",
      "FIN      1135.394565\n",
      "DNK      1071.359167\n",
      "NOR       942.889149\n",
      "SVN       906.728571\n",
      "LVA       569.157500\n",
      "NZL       496.131250\n",
      "EST       304.661176\n",
      "LUX       231.378095\n",
      "ISL        81.584565\n",
      "Name: TOTAL_SPEND, dtype: float64\n"
     ]
    }
   ],
   "source": [
    "average_spend_per_country = df.groupby('LOCATION')['TOTAL_SPEND'].mean().sort_values(ascending=False)\n",
    "\n",
    "print(\"Average Total Spending Countries:\")\n",
    "print(average_spend_per_country)\n"
   ]
  },
  {
   "cell_type": "markdown",
   "metadata": {},
   "source": [
    "#### Median Spend\n",
    "\n",
    "| rank | country code | country name    | median spend |\n",
    "|------|--------------|-----------------|--------------|\n",
    "| 1    | USA          | United States   | 275903.455   |\n",
    "| 2    | RUS          | Russia          | 44655.620    |\n",
    "| 3    | JPN          | Japan           | 40155.075    |\n",
    "| 4    | MEX          | Mexico          | 31203.680    |\n",
    "| 5    | ITA          | Italy           | 27984.090    |\n",
    "| 6    | FRA          | France          | 27155.880    |\n",
    "| 7    | DEU          | Germany         | 22996.320    |\n",
    "| 8    | ESP          | Spain           | 12688.915    |\n",
    "| 9    | POL          | Poland          | 11422.540    |\n",
    "| 10   | CAN          | Canada          | 6974.070     |\n",
    "| 11   | GBR          | United Kingdom  | 5334.670     |\n",
    "| 12   | HUN          | Hungary         | 4010.575     |\n",
    "| 13   | KOR          | South Korea     | 3729.280     |\n",
    "| 14   | GRC          | Greece          | 3477.600     |\n",
    "| 15   | AUT          | Austria         | 3250.675     |\n",
    "| 16   | CZE          | Czech Republic  | 3076.195     |\n",
    "| 17   | NLD          | Netherlands     | 2814.240     |\n",
    "| 18   | AUS          | Australia       | 2764.915     |\n",
    "| 19   | CHE          | Switzerland     | 2593.520     |\n",
    "| 20   | PRT          | Portugal        | 2518.930     |\n",
    "| 21   | SVK          | Slovakia        | 2401.340     |\n",
    "| 22   | ISR          | Israel          | 2071.720     |\n",
    "| 23   | BEL          | Belgium         | 2062.810     |\n",
    "| 24   | SWE          | Sweden          | 1451.000     |\n",
    "| 25   | LTU          | Lithuania       | 1131.030     |\n",
    "| 26   | DNK          | Denmark         | 1009.555     |\n",
    "| 27   | SVN          | Slovenia        | 922.460      |\n",
    "| 28   | FIN          | Finland         | 851.320      |\n",
    "| 29   | TUR          | Turkey          | 724.610      |\n",
    "| 30   | NOR          | Norway          | 674.610      |\n",
    "| 31   | LVA          | Latvia          | 588.680      |\n",
    "| 32   | IRL          | Ireland         | 501.730      |\n",
    "| 33   | NZL          | New Zealand     | 434.985      |\n",
    "| 34   | EST          | Estonia         | 321.850      |\n",
    "| 35   | LUX          | Luxembourg      | 243.370      |\n",
    "| 36   | ISL          | Iceland         | 61.870       |\n",
    "\n",
    "#### Supporting Python Code:"
   ]
  },
  {
   "cell_type": "code",
   "execution_count": 19,
   "metadata": {},
   "outputs": [
    {
     "name": "stdout",
     "output_type": "stream",
     "text": [
      "Ranked Median Spending Countries:\n",
      "LOCATION\n",
      "USA    275903.455\n",
      "RUS     44655.620\n",
      "JPN     40155.075\n",
      "MEX     31203.680\n",
      "ITA     27984.090\n",
      "FRA     27155.880\n",
      "DEU     22996.320\n",
      "ESP     12688.915\n",
      "POL     11422.540\n",
      "CAN      6974.070\n",
      "GBR      5334.670\n",
      "HUN      4010.575\n",
      "KOR      3729.280\n",
      "GRC      3477.600\n",
      "AUT      3250.675\n",
      "CZE      3076.195\n",
      "NLD      2814.240\n",
      "AUS      2764.915\n",
      "CHE      2593.520\n",
      "PRT      2518.930\n",
      "SVK      2401.340\n",
      "ISR      2071.720\n",
      "BEL      2062.810\n",
      "SWE      1451.000\n",
      "LTU      1131.030\n",
      "DNK      1009.555\n",
      "SVN       922.460\n",
      "FIN       851.320\n",
      "TUR       724.610\n",
      "NOR       674.610\n",
      "LVA       588.680\n",
      "IRL       501.730\n",
      "NZL       434.985\n",
      "EST       321.850\n",
      "LUX       243.370\n",
      "ISL        61.870\n",
      "Name: TOTAL_SPEND, dtype: float64\n"
     ]
    }
   ],
   "source": [
    "median_spend_per_country = df.groupby('LOCATION')['TOTAL_SPEND'].median().sort_values(ascending=False)\n",
    "\n",
    "print(\"Ranked Median Spending Countries:\")\n",
    "print(median_spend_per_country)\n"
   ]
  }
 ],
 "metadata": {
  "kernelspec": {
   "display_name": "dsi_participant",
   "language": "python",
   "name": "python3"
  },
  "language_info": {
   "codemirror_mode": {
    "name": "ipython",
    "version": 3
   },
   "file_extension": ".py",
   "mimetype": "text/x-python",
   "name": "python",
   "nbconvert_exporter": "python",
   "pygments_lexer": "ipython3",
   "version": "3.9.18"
  }
 },
 "nbformat": 4,
 "nbformat_minor": 2
}
