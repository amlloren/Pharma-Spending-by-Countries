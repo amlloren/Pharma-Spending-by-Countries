{
 "cells": [
  {
   "cell_type": "markdown",
   "metadata": {},
   "source": [
    "# Understanding the Data"
   ]
  },
  {
   "cell_type": "code",
   "execution_count": 2,
   "metadata": {},
   "outputs": [],
   "source": [
    "# Load the necessary libraries\n",
    "import pandas as pd\n",
    "# Load your dataset\n",
    "df = pd.read_csv('../dsi_team_22/data/raw/pharma.csv')"
   ]
  },
  {
   "cell_type": "markdown",
   "metadata": {},
   "source": [
    "## Schema\n",
    "\n",
    "| name | type | description |\n",
    "|---|---|---|\n",
    "| LOCATION | string (object) | Country code |\n",
    "| TIME | number (int64) | Date in the form of %Y |\n",
    "| PC_HEALTHXP | number (float64) | Percentage of health spending |\n",
    "| PC_GDP | number (float64) | Percentage of GDP |\n",
    "| USD_CAP | number (float64) | in USD per capita (using economy-wide PPPs) |\n",
    "| FLAG_CODES | string (object) | Flag codes |\n",
    "| TOTAL_SPEND | number (float64) | Total spending in millions |"
   ]
  },
  {
   "cell_type": "markdown",
   "metadata": {},
   "source": [
    "## General Data Characteristics\n",
    "Summarizations found in the Pharmaceutical Drug Spending by Countries dataset.\n",
    "\n",
    "| question | analysis |\n",
    "|----------|----------|\n",
    "| How many countries are in this data set? | There are 36 countries in this data set. |\n",
    "| How many years are in this data set? | There are 47 years in this data set. |\n",
    "| What is the year range of this data set? | The data ranges from the years 1970 to 2016. |\n",
    "| What is the total number of observations in the dataset? | There are 1036 observations in this data set |\n",
    "\n",
    "#### Supporting Python Code:"
   ]
  },
  {
   "cell_type": "code",
   "execution_count": 28,
   "metadata": {},
   "outputs": [
    {
     "name": "stdout",
     "output_type": "stream",
     "text": [
      "Number of Countries: 36\n",
      "Number of Years: 47\n",
      "Year Range: (1970, 2016)\n",
      "Total Observations: 1036\n"
     ]
    }
   ],
   "source": [
    "# Find the number of unique countries\n",
    "num_countries = df['LOCATION'].nunique()\n",
    "\n",
    "# Find the number of unique years\n",
    "num_years = df['TIME'].nunique()\n",
    "\n",
    "# Determine the year range of the dataset\n",
    "year_range = (df['TIME'].min(), df['TIME'].max())\n",
    "\n",
    "# Find the total number of observations\n",
    "total_observations = len(df)\n",
    "\n",
    "# Display the results\n",
    "print(\"Number of Countries:\", num_countries)\n",
    "print(\"Number of Years:\", num_years)\n",
    "print(\"Year Range:\", year_range)\n",
    "print(\"Total Observations:\", total_observations)"
   ]
  },
  {
   "cell_type": "markdown",
   "metadata": {},
   "source": [
    "## Pharma Spending Statistics\n",
    "\n",
    "### Average (Mean) across all 36 countries\n",
    "| column | average | unit |\n",
    "|--------|---------|------|\n",
    "| Total Spend | 11765.42 | USD millions |\n",
    "| USD CAP | 295.05 | in USD per capita (using economy-wide PPPs) |\n",
    "| Percentage Health Spending | 16.41 | % |\n",
    "| Percentage GDP | 1.17 | % |\n",
    "\n",
    "#### Supporting Python Code:"
   ]
  },
  {
   "cell_type": "code",
   "execution_count": null,
   "metadata": {},
   "outputs": [],
   "source": [
    "# Identify Pharma Data Set Averages\n",
    "avg_total_spend = df['TOTAL_SPEND'].mean()\n",
    "avg_usd_cap = df['USD_CAP'].mean()\n",
    "avg_pc_healthxp = df['PC_HEALTHXP'].mean()\n",
    "avg_pc_gdp = df['PC_GDP'].mean()\n",
    "\n",
    "# Display the results\n",
    "print(\"Average Total Spend:\", avg_total_spend)\n",
    "print(\"Average USD CAP:\",avg_usd_cap)\n",
    "print(\"Average PC Health Spending:\",avg_pc_healthxp)\n",
    "print(\"Average Percentage GDP:\",avg_pc_gdp)"
   ]
  },
  {
   "cell_type": "markdown",
   "metadata": {},
   "source": [
    "## Country Spending Overview\n",
    "\n",
    "| question | analysis |\n",
    "|----------|----------|\n",
    "| Which country has the highest total health expenditure? | United States |\n",
    "| Which country has the lowest total health expenditure? | Iceland |\n"
   ]
  },
  {
   "cell_type": "markdown",
   "metadata": {},
   "source": [
    "### What are the top 10 highest spending countries?\n",
    "\n",
    "| rank | country code | country name | total spend |\n",
    "|------|--------------|--------------|-------------|\n",
    "| 1 | USA | United States | 4186292.78 |\n",
    "| 2 | JPN | Japan | 1602492.93 |\n",
    "| 3 | DEU | Germany | 1188168.49 |\n",
    "| 4 | FRA | France | 802298.94 |\n",
    "| 5 | ITA | Italy | 754377.19 |\n",
    "| 6 | MEX | Mexico | 451903.24 |\n",
    "| 7 | CAN | Canada | 445157.79 |\n",
    "| 8 | ESP | Spain | 436073.35 |\n",
    "| 9 | KOR | South Korea | 413876.98 |\n",
    "| 10 | GBR | United Kingdom | 243390.12 |\n",
    "\n",
    "#### Supporting Python Code:\n"
   ]
  },
  {
   "cell_type": "code",
   "execution_count": null,
   "metadata": {},
   "outputs": [],
   "source": [
    "# Identify the Top 10 highest spending countries\n",
    "top_10_highest_spending = df.groupby('LOCATION')['TOTAL_SPEND'].sum().sort_values(ascending=False).head(10)\n",
    "\n",
    "# Display the results\n",
    "print(\"Top 10 Highest Spending Countries:\")\n",
    "print(top_10_highest_spending)"
   ]
  },
  {
   "cell_type": "markdown",
   "metadata": {},
   "source": [
    "### What are the bottom 10 lowest spending countries?\n",
    "\n",
    "| rank | country code | country name | total spend |\n",
    "|------|--------------|--------------|-------------|\n",
    "| 36 | ISL | Iceland | 3752.89 |\n",
    "| 35 | LUX | Luxembourg | 4858.94 |\n",
    "| 34 | EST | Estonia | 5179.24 |\n",
    "| 33 | LVA | Latvia | 6829.89 |\n",
    "| 32 | NZL | New Zealand | 11907.15 |\n",
    "| 31 | SVN | Slovenia | 12694.20 |\n",
    "| 30 | LTU | Lithuania | 13859.94 |\n",
    "| 29 | ISR | Israel | 16654.40 |\n",
    "| 28 | TUR | Turkey | 25138.33 |\n",
    "| 27 | SVK | Slovakia | 38472.30 |\n",
    "\n",
    "\n",
    "#### Supporting Python Code:"
   ]
  },
  {
   "cell_type": "code",
   "execution_count": null,
   "metadata": {},
   "outputs": [],
   "source": [
    "# Identify the Bottom 10 lowest spending countries\n",
    "bottom_10_lowest_spending = df.groupby('LOCATION')['TOTAL_SPEND'].sum().sort_values(ascending=True).head(10)\n",
    "\n",
    "# Display the results\n",
    "print(\"Bottom 10 Lowest Spending Countries:\")\n",
    "print(bottom_10_lowest_spending)"
   ]
  },
  {
   "cell_type": "markdown",
   "metadata": {},
   "source": [
    "### Mid Level Spending Countries:\n",
    "\n",
    "| rank | country code | country name | total spend |\n",
    "|------|--------------|--------------|-------------|\n",
    "| 11 | AUS | Australia | 210562.01 |\n",
    "| 12 | POL | Poland | 155643.45 |\n",
    "| 13 | NLD | Netherlands | 147102.32 |\n",
    "| 14 | BEL | Belgium | 126330.37 |\n",
    "| 15 | GRC | Greece | 113206.42 |\n",
    "| 16 | PRT | Portugal | 106881.27 |\n",
    "| 17 | CHE | Switzerland | 103005.12 |\n",
    "| 18 | SWE | Sweden | 93430.58 |\n",
    "| 19 | AUT | Austria | 82723.22 |\n",
    "| 20 | HUN | Hungary | 81580.59 |\n",
    "| 21 | CZE | Czech Republic | 78489.23 |\n",
    "| 22 | FIN | Finland | 52228.15 |\n",
    "| 23 | IRL | Ireland | 46876.19 |\n",
    "| 24 | RUS | Russia | 44655.62 |\n",
    "| 25 | NOR | Norway | 44315.79 |\n",
    "| 26 | DNK | Denmark | 38568.93 |\n",
    "\n",
    "#### Supporting Python Code:"
   ]
  },
  {
   "cell_type": "code",
   "execution_count": null,
   "metadata": {},
   "outputs": [],
   "source": [
    "# Calculate the total spend for each country\n",
    "total_spend_by_country = df.groupby('LOCATION')['TOTAL_SPEND'].sum()\n",
    "\n",
    "# Identify the top 10 and bottom 10 countries\n",
    "top_10_countries = total_spend_by_country.nlargest(10)\n",
    "bottom_10_countries = total_spend_by_country.nsmallest(10)\n",
    "\n",
    "# Filter out the top 10 and bottom 10 countries\n",
    "remaining_countries = total_spend_by_country.drop(top_10_countries.index).drop(bottom_10_countries.index).sort_values(ascending=False)\n",
    "\n",
    "# Display the results\n",
    "print(\"\\nCountries Not in Top 10 or Bottom 10:\")\n",
    "print(remaining_countries)"
   ]
  }
 ],
 "metadata": {
  "kernelspec": {
   "display_name": "dsi_participant",
   "language": "python",
   "name": "python3"
  },
  "language_info": {
   "codemirror_mode": {
    "name": "ipython",
    "version": 3
   },
   "file_extension": ".py",
   "mimetype": "text/x-python",
   "name": "python",
   "nbconvert_exporter": "python",
   "pygments_lexer": "ipython3",
   "version": "3.9.18"
  }
 },
 "nbformat": 4,
 "nbformat_minor": 2
}
