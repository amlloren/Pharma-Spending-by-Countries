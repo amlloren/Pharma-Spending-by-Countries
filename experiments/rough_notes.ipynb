{
 "cells": [
  {
   "cell_type": "markdown",
   "metadata": {},
   "source": []
  },
  {
   "cell_type": "code",
   "execution_count": null,
   "metadata": {},
   "outputs": [],
   "source": [
    "# Load the necessary libraries\n",
    "import pandas as pd\n",
    "import numpy as np\n",
    "import seaborn as sns\n",
    "import matplotlib.pyplot as plt\n",
    "from matplotlib.colors import ListedColormap\n",
    "\n",
    "# Load your dataset\n",
    "df = pd.read_csv('../../dsi_team_22/data/raw/pharma.csv')"
   ]
  },
  {
   "cell_type": "markdown",
   "metadata": {},
   "source": [
    "# 7. General Statistics\n"
   ]
  },
  {
   "cell_type": "markdown",
   "metadata": {},
   "source": [
    "### Average (Mean) across all 36 countries\n",
    "| column | average | unit |\n",
    "|--------|---------|------|\n",
    "| USD CAP | 295.05 | in USD per capita (using economy-wide PPPs) |\n",
    "| Percentage Health Spending | 16.41 | % |\n",
    "| Percentage GDP | 1.17 | % |\n",
    "\n",
    "#### Supporting Python Code:"
   ]
  },
  {
   "cell_type": "code",
   "execution_count": null,
   "metadata": {},
   "outputs": [],
   "source": [
    "# Identify Pharma Data Set Averages\n",
    "avg_usd_cap = df['USD_CAP'].mean()\n",
    "avg_pc_healthxp = df['PC_HEALTHXP'].mean()\n",
    "avg_pc_gdp = df['PC_GDP'].mean()\n",
    "\n",
    "# Display the results\n",
    "print(\"Average USD CAP:\",avg_usd_cap)\n",
    "print(\"Average PC Health Spending:\",avg_pc_healthxp)\n",
    "print(\"Average Percentage GDP:\",avg_pc_gdp)"
   ]
  },
  {
   "cell_type": "markdown",
   "metadata": {},
   "source": [
    "## ??. Country Spending Overview \n",
    "\n",
    "| question | analysis |\n",
    "|----------|----------|\n",
    "| Which country has the highest total health expenditure? | United States (total spend: 4186292.78 USD millions) |\n",
    "| Which country has the lowest total health expenditure? | Iceland (total spend: 3752.89 USD millions) |\n",
    "\n",
    "### Total List of Countries ranked by Total Spend\n",
    "\n",
    "| rank | country code | country name | total spend |\n",
    "|------|--------------|--------------|-------------|\n",
    "| 1 | USA | United States | 4186292.78 |\n",
    "| 2 | JPN | Japan | 1602492.93 |\n",
    "| 3 | DEU | Germany | 1188168.49 |\n",
    "| 4 | FRA | France | 802298.94 |\n",
    "| 5 | ITA | Italy | 754377.19 |\n",
    "| 6 | MEX | Mexico | 451903.24 |\n",
    "| 7 | CAN | Canada | 445157.79 |\n",
    "| 8 | ESP | Spain | 436073.35 |\n",
    "| 9 | KOR | South Korea | 413876.98 |\n",
    "| 10 | GBR | United Kingdom | 243390.12 |\n",
    "| 11 | AUS | Australia | 210562.01 |\n",
    "| 12 | POL | Poland | 155643.45 |\n",
    "| 13 | NLD | Netherlands | 147102.32 |\n",
    "| 14 | BEL | Belgium | 126330.37 |\n",
    "| 15 | GRC | Greece | 113206.42 |\n",
    "| 16 | PRT | Portugal | 106881.27 |\n",
    "| 17 | CHE | Switzerland | 103005.12 |\n",
    "| 18 | SWE | Sweden | 93430.58 |\n",
    "| 19 | AUT | Austria | 82723.22 |\n",
    "| 20 | HUN | Hungary | 81580.59 |\n",
    "| 21 | CZE | Czech Republic | 78489.23 |\n",
    "| 22 | FIN | Finland | 52228.15 |\n",
    "| 23 | IRL | Ireland | 46876.19 |\n",
    "| 24 | RUS | Russia | 44655.62 |\n",
    "| 25 | NOR | Norway | 44315.79 |\n",
    "| 26 | DNK | Denmark | 38568.93 |\n",
    "| 27 | SVK | Slovakia | 38472.30 |\n",
    "| 28 | TUR | Turkey | 25138.33 |\n",
    "| 29 | ISR | Israel | 16654.40 |\n",
    "| 30 | LTU | Lithuania | 13859.94 |\n",
    "| 31 | SVN | Slovenia | 12694.20 |\n",
    "| 32 | NZL | New Zealand | 11907.15 |\n",
    "| 33 | LVA | Latvia | 6829.89 |\n",
    "| 34 | EST | Estonia | 5179.24 |\n",
    "| 35 | LUX | Luxembourg | 4858.94 |\n",
    "| 36 | ISL | Iceland | 3752.89 |\n",
    "\n",
    "#### Supporting Python Code:"
   ]
  },
  {
   "cell_type": "code",
   "execution_count": null,
   "metadata": {},
   "outputs": [],
   "source": [
    "# Identify the Top 10 highest spending countries\n",
    "top_10_highest_spending = df.groupby('LOCATION')['TOTAL_SPEND'].sum().sort_values(ascending=False)\n",
    "\n",
    "# Display the results\n",
    "print(\"Top 10 Highest Spending Countries:\")\n",
    "print(top_10_highest_spending)"
   ]
  },
  {
   "cell_type": "markdown",
   "metadata": {},
   "source": [
    "<a name=\"top10\"></a>\n",
    "### 4.1 What are the top 10 highest spending countries? \n",
    "\n",
    "| rank | country code | country name | total spend |\n",
    "|------|--------------|--------------|-------------|\n",
    "| 1 | USA | United States | 4186292.78 |\n",
    "| 2 | JPN | Japan | 1602492.93 |\n",
    "| 3 | DEU | Germany | 1188168.49 |\n",
    "| 4 | FRA | France | 802298.94 |\n",
    "| 5 | ITA | Italy | 754377.19 |\n",
    "| 6 | MEX | Mexico | 451903.24 |\n",
    "| 7 | CAN | Canada | 445157.79 |\n",
    "| 8 | ESP | Spain | 436073.35 |\n",
    "| 9 | KOR | South Korea | 413876.98 |\n",
    "| 10 | GBR | United Kingdom | 243390.12 |\n",
    "\n",
    "#### Supporting Python Code:\n"
   ]
  },
  {
   "cell_type": "code",
   "execution_count": null,
   "metadata": {},
   "outputs": [
    {
     "name": "stdout",
     "output_type": "stream",
     "text": [
      "Top 10 Highest Spending Countries:\n",
      "LOCATION\n",
      "USA    4186292.78\n",
      "JPN    1602492.93\n",
      "DEU    1188168.49\n",
      "FRA     802298.94\n",
      "ITA     754377.19\n",
      "MEX     451903.24\n",
      "CAN     445157.79\n",
      "ESP     436073.35\n",
      "KOR     413876.98\n",
      "GBR     243390.12\n",
      "Name: TOTAL_SPEND, dtype: float64\n"
     ]
    }
   ],
   "source": [
    "# Identify the Top 10 highest spending countries\n",
    "top_10_highest_spending = df.groupby('LOCATION')['TOTAL_SPEND'].sum().sort_values(ascending=False).head(10)\n",
    "\n",
    "# Display the results\n",
    "print(\"Top 10 Highest Spending Countries:\")\n",
    "print(top_10_highest_spending)"
   ]
  },
  {
   "cell_type": "markdown",
   "metadata": {},
   "source": [
    "<a name=\"midlevel\"></a>\n",
    "\n",
    "### 4.2 What are the mid level spending countries? \n",
    "\n",
    "| rank | country code | country name | total spend |\n",
    "|------|--------------|--------------|-------------|\n",
    "| 11 | AUS | Australia | 210562.01 |\n",
    "| 12 | POL | Poland | 155643.45 |\n",
    "| 13 | NLD | Netherlands | 147102.32 |\n",
    "| 14 | BEL | Belgium | 126330.37 |\n",
    "| 15 | GRC | Greece | 113206.42 |\n",
    "| 16 | PRT | Portugal | 106881.27 |\n",
    "| 17 | CHE | Switzerland | 103005.12 |\n",
    "| 18 | SWE | Sweden | 93430.58 |\n",
    "| 19 | AUT | Austria | 82723.22 |\n",
    "| 20 | HUN | Hungary | 81580.59 |\n",
    "| 21 | CZE | Czech Republic | 78489.23 |\n",
    "| 22 | FIN | Finland | 52228.15 |\n",
    "| 23 | IRL | Ireland | 46876.19 |\n",
    "| 24 | RUS | Russia | 44655.62 |\n",
    "| 25 | NOR | Norway | 44315.79 |\n",
    "| 26 | DNK | Denmark | 38568.93 |\n",
    "\n",
    "#### Supporting Python Code:"
   ]
  },
  {
   "cell_type": "code",
   "execution_count": null,
   "metadata": {},
   "outputs": [
    {
     "name": "stdout",
     "output_type": "stream",
     "text": [
      "\n",
      "Countries Not in Top 10 or Bottom 10:\n",
      "LOCATION\n",
      "AUS    210562.01\n",
      "POL    155643.45\n",
      "NLD    147102.32\n",
      "BEL    126330.37\n",
      "GRC    113206.42\n",
      "PRT    106881.27\n",
      "CHE    103005.12\n",
      "SWE     93430.58\n",
      "AUT     82723.22\n",
      "HUN     81580.59\n",
      "CZE     78489.23\n",
      "FIN     52228.15\n",
      "IRL     46876.19\n",
      "RUS     44655.62\n",
      "NOR     44315.79\n",
      "DNK     38568.93\n",
      "Name: TOTAL_SPEND, dtype: float64\n"
     ]
    }
   ],
   "source": [
    "# Calculate the total spend for each country\n",
    "total_spend_by_country = df.groupby('LOCATION')['TOTAL_SPEND'].sum()\n",
    "\n",
    "# Identify the top 10 and bottom 10 countries\n",
    "top_10_countries = total_spend_by_country.nlargest(10)\n",
    "bottom_10_countries = total_spend_by_country.nsmallest(10)\n",
    "\n",
    "# Filter out the top 10 and bottom 10 countries\n",
    "remaining_countries = total_spend_by_country.drop(top_10_countries.index).drop(bottom_10_countries.index).sort_values(ascending=False)\n",
    "\n",
    "# Display the results\n",
    "print(\"\\nCountries Not in Top 10 or Bottom 10:\")\n",
    "print(remaining_countries)"
   ]
  },
  {
   "cell_type": "markdown",
   "metadata": {},
   "source": [
    "<a name=\"bottom10\"></a>\n",
    "\n",
    "### 4.3 What are the bottom 10 lowest spending countries? \n",
    "\n",
    "| rank | country code | country name | total spend |\n",
    "|------|--------------|--------------|-------------|\n",
    "| 27 | SVK | Slovakia | 38472.30 |\n",
    "| 28 | TUR | Turkey | 25138.33 |\n",
    "| 29 | ISR | Israel | 16654.40 |\n",
    "| 30 | LTU | Lithuania | 13859.94 |\n",
    "| 31 | SVN | Slovenia | 12694.20 |\n",
    "| 32 | NZL | New Zealand | 11907.15 |\n",
    "| 33 | LVA | Latvia | 6829.89 |\n",
    "| 34 | EST | Estonia | 5179.24 |\n",
    "| 35 | LUX | Luxembourg | 4858.94 |\n",
    "| 36 | ISL | Iceland | 3752.89 |\n",
    "\n",
    "#### Supporting Python Code:"
   ]
  },
  {
   "cell_type": "code",
   "execution_count": null,
   "metadata": {},
   "outputs": [
    {
     "name": "stdout",
     "output_type": "stream",
     "text": [
      "Bottom 10 Lowest Spending Countries:\n",
      "LOCATION\n",
      "ISL     3752.89\n",
      "LUX     4858.94\n",
      "EST     5179.24\n",
      "LVA     6829.89\n",
      "NZL    11907.15\n",
      "SVN    12694.20\n",
      "LTU    13859.94\n",
      "ISR    16654.40\n",
      "TUR    25138.33\n",
      "SVK    38472.30\n",
      "Name: TOTAL_SPEND, dtype: float64\n"
     ]
    }
   ],
   "source": [
    "# Identify the Bottom 10 lowest spending countries\n",
    "bottom_10_lowest_spending = df.groupby('LOCATION')['TOTAL_SPEND'].sum().sort_values(ascending=True).head(10)\n",
    "\n",
    "# Display the results\n",
    "print(\"Bottom 10 Lowest Spending Countries:\")\n",
    "print(bottom_10_lowest_spending)"
   ]
  },
  {
   "cell_type": "markdown",
   "metadata": {},
   "source": [
    "## 5. Summary Statistics by Country Spending Category "
   ]
  },
  {
   "cell_type": "markdown",
   "metadata": {},
   "source": [
    "### Averages (Mean) per column\n",
    "\n",
    "| category | % of health spending | % of GDP | USD per capita | total spend |\n",
    "|----------|---------------------:|---------:|---------------:|------------:|\n",
    "| top 10 countries | 717.68 | 50.70 | 13073.28 USD | 1052403.18 USD millions |\n",
    "| mid-level countries | 474.55 | 34.59 | 9064.45 USD | 95349.95 USD millions |\n",
    "| bottom 10 countries | 222.73 | 15.27 | 2990.46 USD | 13934.73 USD millions |\n",
    "\n",
    "#### Supporting Python Code:"
   ]
  },
  {
   "cell_type": "code",
   "execution_count": null,
   "metadata": {},
   "outputs": [
    {
     "name": "stdout",
     "output_type": "stream",
     "text": [
      "Average Total Spend of the Top 10 Countries: 1052403.1809999999\n",
      "Average Total Spend of the Mid-Level Countries: 95349.95375\n",
      "Average Total Spend of the Bottom 10 Countries: 13934.728\n"
     ]
    }
   ],
   "source": [
    "# Calculate the total spend for each country\n",
    "total_spend_by_country = df.groupby('LOCATION')['TOTAL_SPEND'].sum()\n",
    "\n",
    "# Identify the top 10 and bottom 10 countries\n",
    "top_10_total_spend = total_spend_by_country.nlargest(10)\n",
    "bottom_10_total_spend = total_spend_by_country.nsmallest(10)\n",
    "\n",
    "# Filter out the top 10 and bottom 10 countries\n",
    "mid_level_total_spend = total_spend_by_country.drop(top_10_total_spend.index).drop(bottom_10_total_spend.index)\n",
    "\n",
    "# Calculate the average total spend for each group\n",
    "average_total_spend_top_10 = top_10_total_spend.mean()\n",
    "average_total_spend_bottom_10 = bottom_10_total_spend.mean()\n",
    "average_total_spend_mid_level = mid_level_total_spend.mean()\n",
    "\n",
    "# Display the results\n",
    "print(\"Average Total Spend of the Top 10 Countries:\", average_total_spend_top_10)\n",
    "print(\"Average Total Spend of the Mid-Level Countries:\", average_total_spend_mid_level)\n",
    "print(\"Average Total Spend of the Bottom 10 Countries:\", average_total_spend_bottom_10)"
   ]
  },
  {
   "cell_type": "code",
   "execution_count": null,
   "metadata": {},
   "outputs": [
    {
     "name": "stdout",
     "output_type": "stream",
     "text": [
      "Average pc of health spending of the Top 10 Countries: 717.6775\n",
      "Average pc of health spending of the Mid-Level Countries: 474.55343750000003\n",
      "Average pc of health spending of the Bottom 10 Countries: 222.7304\n"
     ]
    }
   ],
   "source": [
    "# Calculate the percentage of health spending for each country\n",
    "pc_healthxp_by_country = df.groupby('LOCATION')['PC_HEALTHXP'].sum()\n",
    "\n",
    "# Identify the top 10 and bottom 10 countries\n",
    "top_10_pc_healthxp = pc_healthxp_by_country.nlargest(10)\n",
    "bottom_10_pc_healthxp = pc_healthxp_by_country.nsmallest(10)\n",
    "\n",
    "# Filter out the top 10 and bottom 10 countries\n",
    "mid_level_pc_healthxp = pc_healthxp_by_country.drop(top_10_pc_healthxp.index).drop(bottom_10_pc_healthxp.index)\n",
    "\n",
    "# Calculate the average total spend for each group\n",
    "average_pc_healthxp_top_10 = top_10_pc_healthxp.mean()\n",
    "average_pc_healthxp_bottom_10 = bottom_10_pc_healthxp.mean()\n",
    "average_pc_healthxp_mid_level = mid_level_pc_healthxp.mean()\n",
    "\n",
    "# Display the results\n",
    "print(\"Average pc of health spending of the Top 10 Countries:\", average_pc_healthxp_top_10)\n",
    "print(\"Average pc of health spending of the Mid-Level Countries:\", average_pc_healthxp_mid_level)\n",
    "print(\"Average pc of health spending of the Bottom 10 Countries:\", average_pc_healthxp_bottom_10)"
   ]
  },
  {
   "cell_type": "code",
   "execution_count": null,
   "metadata": {},
   "outputs": [
    {
     "name": "stdout",
     "output_type": "stream",
     "text": [
      "Average pc of gdp of the Top 10 Countries: 50.6995\n",
      "Average pc of gdp of the Mid-Level Countries: 34.5884375\n",
      "Average pc of gdp of the Bottom 10 Countries: 15.269199999999998\n"
     ]
    }
   ],
   "source": [
    "# Calculate the percentage of GDP for each country\n",
    "pc_gdp_by_country = df.groupby('LOCATION')['PC_GDP'].sum()\n",
    "\n",
    "# Identify the top 10 and bottom 10 countries\n",
    "top_10_pc_gdp = pc_gdp_by_country.nlargest(10)\n",
    "bottom_10_pc_gdp = pc_gdp_by_country.nsmallest(10)\n",
    "\n",
    "# Filter out the top 10 and bottom 10 countries\n",
    "mid_level_pc_gdp = pc_gdp_by_country.drop(top_10_pc_gdp.index).drop(bottom_10_pc_gdp.index)\n",
    "\n",
    "# Calculate the average total spend for each group\n",
    "average_pc_gdp_top_10 = top_10_pc_gdp.mean()\n",
    "average_pc_gdp_bottom_10 = bottom_10_pc_gdp.mean()\n",
    "average_pc_gdp_mid_level = mid_level_pc_gdp.mean()\n",
    "\n",
    "# Display the results\n",
    "print(\"Average pc of gdp of the Top 10 Countries:\", average_pc_gdp_top_10)\n",
    "print(\"Average pc of gdp of the Mid-Level Countries:\", average_pc_gdp_mid_level)\n",
    "print(\"Average pc of gdp of the Bottom 10 Countries:\", average_pc_gdp_bottom_10)"
   ]
  },
  {
   "cell_type": "code",
   "execution_count": null,
   "metadata": {},
   "outputs": [
    {
     "name": "stdout",
     "output_type": "stream",
     "text": [
      "Average USD per capita of the Top 10 Countries: 13073.2844\n",
      "Average USD per capita of the Mid-Level Countries: 9064.449625000001\n",
      "Average USD per capita of the Bottom 10 Countries: 2990.4642999999996\n"
     ]
    }
   ],
   "source": [
    "# Calculate the USD per capita for each country\n",
    "usd_cap_by_country = df.groupby('LOCATION')['USD_CAP'].sum()\n",
    "\n",
    "# Identify the top 10 and bottom 10 countries\n",
    "top_10_usd_cap = usd_cap_by_country.nlargest(10)\n",
    "bottom_10_usd_cap = usd_cap_by_country.nsmallest(10)\n",
    "\n",
    "# Filter out the top 10 and bottom 10 countries\n",
    "mid_level_usd_cap = usd_cap_by_country.drop(top_10_usd_cap.index).drop(bottom_10_usd_cap.index)\n",
    "\n",
    "# Calculate the average total spend for each group\n",
    "average_usd_cap_top_10 = top_10_usd_cap.mean()\n",
    "average_usd_cap_bottom_10 = bottom_10_usd_cap.mean()\n",
    "average_usd_cap_mid_level = mid_level_usd_cap.mean()\n",
    "\n",
    "# Display the results\n",
    "print(\"Average USD per capita of the Top 10 Countries:\", average_usd_cap_top_10)\n",
    "print(\"Average USD per capita of the Mid-Level Countries:\", average_usd_cap_mid_level)\n",
    "print(\"Average USD per capita of the Bottom 10 Countries:\", average_usd_cap_bottom_10)"
   ]
  },
  {
   "cell_type": "markdown",
   "metadata": {},
   "source": [
    "## 9. Addressing Inaccuracies\n",
    "\n",
    "### Results are skewed by the number of observations\n",
    "The output of \"total_spend\" for a country is the sum of all observations (rows) for that country in the dataset. If one country has 18 observations and another has 40, the TOTAL_SPEND for each country will be the sum of TOTAL_SPEND values from those 18 or 40 observations, respectively.\n",
    "\n",
    "Meaning, the total spend will be influenced by the number of observations for each country. Countries with more observations will likely have higher total spend values simply because there are more data points contributing to the sum. This can skew the results if the number of observations varies significantly between countries. \n",
    "\n",
    "### Addressing the Skew\n",
    "To address this potential skew, you might want to consider normalizing the spend values. Here are a few approaches you can take:\n",
    "\n",
    "* Average Spend per Observation: Calculate the average spend per observation for each country. This can give a more balanced view, regardless of the number of observations.\n",
    "\n",
    "* Median Spend: Use the median spend instead of the sum or mean, as the median is less sensitive to outliers and the number of observations."
   ]
  },
  {
   "cell_type": "markdown",
   "metadata": {},
   "source": [
    "#### Average Spend per Observation\n",
    "\n",
    "| rank | country code | country name    | average spend per observation |\n",
    "|------|--------------|-----------------|-------------------------------|\n",
    "| 1    | USA          | United States   | 261643.298750                 |\n",
    "| 2    | JPN          | Japan           | 50077.904062                  |\n",
    "| 3    | RUS          | Russia          | 44655.620000                  |\n",
    "| 4    | FRA          | France          | 26743.298000                  |\n",
    "| 5    | MEX          | Mexico          | 26582.543529                  |\n",
    "| 6    | DEU          | Germany         | 26403.744222                  |\n",
    "| 7    | ITA          | Italy           | 26013.006552                  |\n",
    "| 8    | ESP          | Spain           | 13627.292187                  |\n",
    "| 9    | POL          | Poland          | 11117.389286                  |\n",
    "| 10   | CAN          | Canada          | 9892.395333                   |\n",
    "| 11   | KOR          | South Korea     | 8805.893191                   |\n",
    "| 12   | GBR          | United Kingdom  | 7851.294194                   |\n",
    "| 13   | AUS          | Australia       | 4785.500227                   |\n",
    "| 14   | GRC          | Greece          | 4192.830370                   |\n",
    "| 15   | HUN          | Hungary         | 3708.208636                   |\n",
    "| 16   | NLD          | Netherlands     | 3420.984186                   |\n",
    "| 17   | CHE          | Switzerland     | 3322.745806                   |\n",
    "| 18   | AUT          | Austria         | 3181.662308                   |\n",
    "| 19   | BEL          | Belgium         | 3081.228537                   |\n",
    "| 20   | CZE          | Czech Republic  | 3018.816538                   |\n",
    "| 21   | PRT          | Portugal        | 2740.545385                   |\n",
    "| 22   | TUR          | Turkey          | 2285.302727                   |\n",
    "| 23   | SVK          | Slovakia        | 2263.076471                   |\n",
    "| 24   | ISR          | Israel          | 2081.800000                   |\n",
    "| 25   | SWE          | Sweden          | 2031.099565                   |\n",
    "| 26   | LTU          | Lithuania       | 1154.995000                   |\n",
    "| 27   | IRL          | Ireland         | 1143.321707                   |\n",
    "| 28   | FIN          | Finland         | 1135.394565                   |\n",
    "| 29   | DNK          | Denmark         | 1071.359167                   |\n",
    "| 30   | NOR          | Norway          | 942.889149                    |\n",
    "| 31   | SVN          | Slovenia        | 906.728571                    |\n",
    "| 32   | LVA          | Latvia          | 569.157500                    |\n",
    "| 33   | NZL          | New Zealand     | 496.131250                    |\n",
    "| 34   | EST          | Estonia         | 304.661176                    |\n",
    "| 35   | LUX          | Luxembourg      | 231.378095                    |\n",
    "| 36   | ISL          | Iceland         | 81.584565                     |\n",
    "\n",
    "\n",
    "#### Supporting Python Code:"
   ]
  },
  {
   "cell_type": "code",
   "execution_count": null,
   "metadata": {},
   "outputs": [
    {
     "name": "stdout",
     "output_type": "stream",
     "text": [
      "Average Total Spending Countries:\n",
      "LOCATION\n",
      "USA    261643.298750\n",
      "JPN     50077.904062\n",
      "RUS     44655.620000\n",
      "FRA     26743.298000\n",
      "MEX     26582.543529\n",
      "DEU     26403.744222\n",
      "ITA     26013.006552\n",
      "ESP     13627.292187\n",
      "POL     11117.389286\n",
      "CAN      9892.395333\n",
      "KOR      8805.893191\n",
      "GBR      7851.294194\n",
      "AUS      4785.500227\n",
      "GRC      4192.830370\n",
      "HUN      3708.208636\n",
      "NLD      3420.984186\n",
      "CHE      3322.745806\n",
      "AUT      3181.662308\n",
      "BEL      3081.228537\n",
      "CZE      3018.816538\n",
      "PRT      2740.545385\n",
      "TUR      2285.302727\n",
      "SVK      2263.076471\n",
      "ISR      2081.800000\n",
      "SWE      2031.099565\n",
      "LTU      1154.995000\n",
      "IRL      1143.321707\n",
      "FIN      1135.394565\n",
      "DNK      1071.359167\n",
      "NOR       942.889149\n",
      "SVN       906.728571\n",
      "LVA       569.157500\n",
      "NZL       496.131250\n",
      "EST       304.661176\n",
      "LUX       231.378095\n",
      "ISL        81.584565\n",
      "Name: TOTAL_SPEND, dtype: float64\n"
     ]
    }
   ],
   "source": [
    "average_spend_per_country = df.groupby('LOCATION')['TOTAL_SPEND'].mean().sort_values(ascending=False)\n",
    "\n",
    "print(\"Average Total Spending Countries:\")\n",
    "print(average_spend_per_country)\n"
   ]
  },
  {
   "cell_type": "markdown",
   "metadata": {},
   "source": [
    "#### Median Spend\n",
    "\n",
    "| rank | country code | country name    | median spend |\n",
    "|------|--------------|-----------------|--------------|\n",
    "| 1    | USA          | United States   | 275903.455   |\n",
    "| 2    | RUS          | Russia          | 44655.620    |\n",
    "| 3    | JPN          | Japan           | 40155.075    |\n",
    "| 4    | MEX          | Mexico          | 31203.680    |\n",
    "| 5    | ITA          | Italy           | 27984.090    |\n",
    "| 6    | FRA          | France          | 27155.880    |\n",
    "| 7    | DEU          | Germany         | 22996.320    |\n",
    "| 8    | ESP          | Spain           | 12688.915    |\n",
    "| 9    | POL          | Poland          | 11422.540    |\n",
    "| 10   | CAN          | Canada          | 6974.070     |\n",
    "| 11   | GBR          | United Kingdom  | 5334.670     |\n",
    "| 12   | HUN          | Hungary         | 4010.575     |\n",
    "| 13   | KOR          | South Korea     | 3729.280     |\n",
    "| 14   | GRC          | Greece          | 3477.600     |\n",
    "| 15   | AUT          | Austria         | 3250.675     |\n",
    "| 16   | CZE          | Czech Republic  | 3076.195     |\n",
    "| 17   | NLD          | Netherlands     | 2814.240     |\n",
    "| 18   | AUS          | Australia       | 2764.915     |\n",
    "| 19   | CHE          | Switzerland     | 2593.520     |\n",
    "| 20   | PRT          | Portugal        | 2518.930     |\n",
    "| 21   | SVK          | Slovakia        | 2401.340     |\n",
    "| 22   | ISR          | Israel          | 2071.720     |\n",
    "| 23   | BEL          | Belgium         | 2062.810     |\n",
    "| 24   | SWE          | Sweden          | 1451.000     |\n",
    "| 25   | LTU          | Lithuania       | 1131.030     |\n",
    "| 26   | DNK          | Denmark         | 1009.555     |\n",
    "| 27   | SVN          | Slovenia        | 922.460      |\n",
    "| 28   | FIN          | Finland         | 851.320      |\n",
    "| 29   | TUR          | Turkey          | 724.610      |\n",
    "| 30   | NOR          | Norway          | 674.610      |\n",
    "| 31   | LVA          | Latvia          | 588.680      |\n",
    "| 32   | IRL          | Ireland         | 501.730      |\n",
    "| 33   | NZL          | New Zealand     | 434.985      |\n",
    "| 34   | EST          | Estonia         | 321.850      |\n",
    "| 35   | LUX          | Luxembourg      | 243.370      |\n",
    "| 36   | ISL          | Iceland         | 61.870       |\n",
    "\n",
    "#### Supporting Python Code:"
   ]
  },
  {
   "cell_type": "code",
   "execution_count": null,
   "metadata": {},
   "outputs": [
    {
     "name": "stdout",
     "output_type": "stream",
     "text": [
      "Ranked Median Spending Countries:\n",
      "LOCATION\n",
      "USA    275903.455\n",
      "RUS     44655.620\n",
      "JPN     40155.075\n",
      "MEX     31203.680\n",
      "ITA     27984.090\n",
      "FRA     27155.880\n",
      "DEU     22996.320\n",
      "ESP     12688.915\n",
      "POL     11422.540\n",
      "CAN      6974.070\n",
      "GBR      5334.670\n",
      "HUN      4010.575\n",
      "KOR      3729.280\n",
      "GRC      3477.600\n",
      "AUT      3250.675\n",
      "CZE      3076.195\n",
      "NLD      2814.240\n",
      "AUS      2764.915\n",
      "CHE      2593.520\n",
      "PRT      2518.930\n",
      "SVK      2401.340\n",
      "ISR      2071.720\n",
      "BEL      2062.810\n",
      "SWE      1451.000\n",
      "LTU      1131.030\n",
      "DNK      1009.555\n",
      "SVN       922.460\n",
      "FIN       851.320\n",
      "TUR       724.610\n",
      "NOR       674.610\n",
      "LVA       588.680\n",
      "IRL       501.730\n",
      "NZL       434.985\n",
      "EST       321.850\n",
      "LUX       243.370\n",
      "ISL        61.870\n",
      "Name: TOTAL_SPEND, dtype: float64\n"
     ]
    }
   ],
   "source": [
    "median_spend_per_country = df.groupby('LOCATION')['TOTAL_SPEND'].median().sort_values(ascending=False)\n",
    "\n",
    "print(\"Ranked Median Spending Countries:\")\n",
    "print(median_spend_per_country)\n"
   ]
  }
 ],
 "metadata": {
  "kernelspec": {
   "display_name": "dsi_participant",
   "language": "python",
   "name": "python3"
  },
  "language_info": {
   "name": "python",
   "version": "3.9.18"
  }
 },
 "nbformat": 4,
 "nbformat_minor": 2
}
